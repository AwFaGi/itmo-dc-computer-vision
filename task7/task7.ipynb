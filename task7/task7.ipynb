{
 "cells": [
  {
   "cell_type": "markdown",
   "metadata": {},
   "source": [
    "# СТРОГО В КОЛАБЕ"
   ]
  },
  {
   "cell_type": "code",
   "execution_count": null,
   "metadata": {},
   "outputs": [],
   "source": [
    "from tensorflow import keras\n",
    "from keras.models import Sequential\n",
    "from keras import optimizers\n",
    "from keras.layers import Convolution2D, MaxPooling2D, Dropout, Flatten, Dense, Reshape, LSTM, BatchNormalization\n",
    "from keras.optimizers import SGD, RMSprop, Adam\n",
    "from keras import backend as K\n",
    "from keras.constraints import maxnorm\n",
    "import tensorflow as tf\n",
    "import zipfile \n",
    "import os\n",
    "import numpy as np\n",
    "import cv2\n",
    "from google.colab.patches import cv2_imshow\n",
    "\n",
    "emnist_labels = [48, 49, 50, 51, 52, 53, 54, 55, 56, 57, 65, 66, 67, 68, 69, 70, 71, 72, 73, 74, 75, 76, 77, 78, 79, 80, 81, 82, 83, 84, 85, 86, 87, 88, 89, 90, 97, 98, 99, 100, 101, 102, 103, 104, 105, 106, 107, 108, 109, 110, 111, 112, 113, 114, 115, 116, 117, 118, 119, 120, 121, 122]"
   ]
  },
  {
   "cell_type": "code",
   "execution_count": null,
   "metadata": {},
   "outputs": [],
   "source": [
    "# название файла поменять\n",
    "img = cv2.imread('/content/vehicleNum.jpg')\n",
    "cv2_imshow(img)\n",
    "gray = cv2.cvtColor(img, cv2.COLOR_BGR2GRAY)  # переводим в градации серого\n",
    "thresh = cv2.adaptiveThreshold(gray,255,cv2.ADAPTIVE_THRESH_GAUSSIAN_C, cv2.THRESH_BINARY,11,2) # устанавливаем порог для дальнейшего определения контура номерного знака\n",
    "contours,h = cv2.findContours(thresh,1,2) # находим контуры\n",
    "largest_rectangle = [0,0] \n",
    "for cnt in contours:\n",
    "    approx = cv2.approxPolyDP(cnt,0.01*cv2.arcLength(cnt,True),True)\n",
    "    if len(approx)==4: # В нашем примере мы делаем допущение, что номерной знак - четырехугольник.\n",
    "        area = cv2.contourArea(cnt)\n",
    "        if area > largest_rectangle[0]:\n",
    "            largest_rectangle = [cv2.contourArea(cnt), cnt, approx]\n",
    "\n",
    "x,y,w,h = cv2.boundingRect(largest_rectangle[1])\n",
    "vehicle_num=img[y:y+h,x:x+w] # оставляем на исходном изображении только номер автомобиля\n",
    "cv2_imshow(vehicle_num)"
   ]
  },
  {
   "cell_type": "code",
   "execution_count": null,
   "metadata": {},
   "outputs": [],
   "source": [
    "gray = cv2.cvtColor(vehicle_num, cv2.COLOR_BGR2GRAY) # уже работаем с выделенным участком изображения\n",
    "ret, thresh = cv2.threshold(gray, 75, 255, cv2.THRESH_BINARY) \n",
    "img_erode = cv2.erode(thresh, np.ones((3, 3), np.uint8), iterations=1) # размываем границы объекта\n",
    "contours, hierarchy = cv2.findContours(img_erode, cv2.RETR_TREE, cv2.CHAIN_APPROX_NONE) # находим контуры, используя иерархическую структуру\n",
    "output = vehicle_num.copy()\n",
    "letters = []\n",
    "for idx, contour in enumerate(contours):\n",
    "  (x, y, w, h) = cv2.boundingRect(contour)\n",
    "  if w > 10 and h > 10:\n",
    "    if hierarchy[0][idx][3] == 0:\n",
    "      cv2.rectangle(output, (x, y), (x + w, y + h), (255, 0, 0), 2)\n",
    "      letter_crop = gray[y:y + h, x:x + w]\n",
    "      cv2_imshow(output)\n",
    "      size_max = max(w, h) # выделяем область в виде квадрата\n",
    "      letter_square = 255 * np.ones(shape=[size_max, size_max], dtype=np.uint8)\n",
    "      if w > h:\n",
    "        y_pos = size_max//2 - h//2\n",
    "        letter_square[y_pos:y_pos + h, 0:w] = letter_crop\n",
    "      elif w < h:\n",
    "        x_pos = size_max//2 - w//2\n",
    "        letter_square[0:h, x_pos:x_pos + w] = letter_crop\n",
    "      else:\n",
    "        letter_square = letter_crop\n",
    "      out_size = 28  # устанавливаем размеры результирующего изображения для каждой буквы    \n",
    "      letters.append((x, w, cv2.resize(letter_square, (out_size, out_size), interpolation=cv2.INTER_AREA))) \n",
    "letters.sort(key=lambda x: x[0], reverse=False) # сортируем относительно координаты Х\n",
    "print(\"Выводим каждый символ отдельно, отсортировав по координате Х\")\n",
    "for i in range(0,len(letters)):\n",
    "  cv2_imshow(letters[i][2])"
   ]
  },
  {
   "cell_type": "code",
   "execution_count": null,
   "metadata": {},
   "outputs": [],
   "source": [
    "!gdown --id 1tLZ_bMsyjRTKjessSL0ljOAscPp6Tw-T"
   ]
  },
  {
   "cell_type": "code",
   "execution_count": null,
   "metadata": {},
   "outputs": [],
   "source": [
    "model = keras.models.load_model('/content/emnist_symbols.h5')"
   ]
  },
  {
   "cell_type": "code",
   "execution_count": null,
   "metadata": {},
   "outputs": [],
   "source": [
    "def emnist_predict_img(model, img):\n",
    "    img_arr = np.expand_dims(img, axis=0)\n",
    "    img_arr = 1 - img_arr/255.0\n",
    "    img_arr[0] = np.rot90(img_arr[0], 3)\n",
    "    img_arr[0] = np.fliplr(img_arr[0])\n",
    "    img_arr = img_arr.reshape((1, 28, 28, 1))\n",
    "    result = np.argmax(model.predict([img_arr]), axis=1)\n",
    "    return chr(emnist_labels[result[0]])"
   ]
  },
  {
   "cell_type": "code",
   "execution_count": null,
   "metadata": {},
   "outputs": [],
   "source": [
    "def img_to_str(model, letters):\n",
    "    result = \"\"\n",
    "    for i in range(len(letters)):\n",
    "        dn = letters[i+1][0] - letters[i][0] - letters[i][1] if i < len(letters) - 1 else 0\n",
    "        cv2_imshow(letters[i][2])\n",
    "        result += emnist_predict_img(model, letters[i][2])\n",
    "        if (dn > letters[i][1]/4):\n",
    "            result += ' '\n",
    "    return result"
   ]
  },
  {
   "cell_type": "code",
   "execution_count": null,
   "metadata": {},
   "outputs": [],
   "source": [
    "result = img_to_str(model, letters)\n",
    "print(result.replace(' ', '').lower())"
   ]
  }
 ],
 "metadata": {
  "kernelspec": {
   "display_name": "Python 3",
   "language": "python",
   "name": "python3"
  },
  "language_info": {
   "name": "python",
   "version": "3.11.7"
  }
 },
 "nbformat": 4,
 "nbformat_minor": 2
}
