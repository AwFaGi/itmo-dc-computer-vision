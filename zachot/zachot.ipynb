{
 "cells": [
  {
   "cell_type": "markdown",
   "metadata": {},
   "source": [
    "# ЗАЧЕТ\n",
    "\n",
    "запускать строго в колабе, иначе вам будет больно\n",
    "\n",
    "Перед установкой библиотек необходимо выбрать GPU в качестве среды выполнения (Go to Runtime -> Change Runtime -> Select GPU)."
   ]
  },
  {
   "cell_type": "code",
   "execution_count": null,
   "metadata": {},
   "outputs": [],
   "source": [
    "!pip install -q dlib==19.18.0 -vv\n",
    "!pip install -q face-recognition-models==0.3.0\n",
    "!pip install -q face_recognition==1.3.0"
   ]
  },
  {
   "cell_type": "code",
   "execution_count": null,
   "metadata": {},
   "outputs": [],
   "source": [
    "import face_recognition\n",
    "from PIL import Image, ImageDraw\n",
    "import matplotlib.pyplot as plt\n",
    "\n",
    "file_name = \"/content/CV_Zachet_22.jpg\""
   ]
  },
  {
   "cell_type": "code",
   "execution_count": null,
   "metadata": {},
   "outputs": [],
   "source": [
    "image = face_recognition.load_image_file(\"/content/CV_Zachet_22.jpg\")\n",
    "plt.imshow(image) # Обработка данных на изображении image\n",
    "plt.xticks([])\n",
    "plt.yticks([])\n",
    "plt.show()"
   ]
  },
  {
   "cell_type": "code",
   "execution_count": null,
   "metadata": {},
   "outputs": [],
   "source": [
    "face_locations = face_recognition.face_locations(image)\n",
    "\n",
    "for face_location in face_locations:\n",
    "\n",
    "    # Выводим координаты каждого лица на изображении\n",
    "    top, right, bottom, left = face_location\n",
    "    print(\"Координаты лица (в пикселях) Верхний: {}, Левый: {}, Нижний: {}, Правый: {}\".format(top, left, bottom, right))\n",
    "    face_image = image[top:bottom, left:right]\n",
    "    pil_image = Image.fromarray(face_image)\n",
    "    plt.imshow(pil_image) # Обработка данных на изображении image\n",
    "    plt.xticks([])\n",
    "    plt.yticks([])\n",
    "    plt.show()\n",
    "\n",
    "# если библа распознала 4 прямоугольника но один из них не человек а просто херня какая то \n",
    "# вводите 3, если не сработает то 4"
   ]
  },
  {
   "cell_type": "code",
   "execution_count": null,
   "metadata": {},
   "outputs": [],
   "source": [
    "face_landmarks_list = face_recognition.face_landmarks(image)\n",
    "\n",
    "pil_image = Image.fromarray(image)\n",
    "\n",
    "ans = 0\n",
    "\n",
    "for face_landmarks in face_landmarks_list:\n",
    "    d = ImageDraw.Draw(pil_image, 'RGB')\n",
    "    d.rectangle([(0,0),pil_image.size], fill = (0,0,0) )\n",
    "    d.line(face_landmarks['top_lip'], fill=(150, 0, 0), width=4)\n",
    "    d.line(face_landmarks['bottom_lip'], fill=(150, 0, 0), width=4)\n",
    "\n",
    "    c = 0\n",
    "\n",
    "    for pixel in pil_image.getdata():\n",
    "      if (pixel != (0, 0, 0)):\n",
    "        c += 1\n",
    "\n",
    "    ans = max(ans, c)\n",
    "\n",
    "print(ans)"
   ]
  }
 ],
 "metadata": {
  "kernelspec": {
   "display_name": "Python 3",
   "language": "python",
   "name": "python3"
  },
  "language_info": {
   "name": "python",
   "version": "3.11.7"
  }
 },
 "nbformat": 4,
 "nbformat_minor": 2
}
