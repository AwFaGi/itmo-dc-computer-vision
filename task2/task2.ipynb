{
  "cells": [
    {
      "cell_type": "markdown",
      "metadata": {
        "id": "Wygbe6y5J0_a"
      },
      "source": [
        "ЗАПУСКАТЬ СТРОГО В КОЛАБЕ"
      ]
    },
    {
      "cell_type": "code",
      "execution_count": null,
      "metadata": {
        "id": "4Uzavt_eGm1B"
      },
      "outputs": [],
      "source": [
        "!pip install -q tensorflow"
      ]
    },
    {
      "cell_type": "markdown",
      "source": [
        "тут качаем файлы, можно вручную перетащить в колаб если это не будет работать"
      ],
      "metadata": {
        "id": "lbMaVxPKYbOv"
      }
    },
    {
      "cell_type": "code",
      "source": [
        "!wget \"https://de.ifmo.ru/nextcloud/s/KtcwoaaJTSQC9WD/download?path=%2F%D0%97%D0%B0%D0%B4%D0%B0%D0%BD%D0%B8%D0%B5%202&files=train.zip&downloadStartSecret=tiomwzjicfj\" -O train.zip"
      ],
      "metadata": {
        "colab": {
          "base_uri": "https://localhost:8080/"
        },
        "id": "M3F8d-DBUtGs",
        "outputId": "c98999a6-a8ab-4d74-e798-63e399227dc9"
      },
      "execution_count": 9,
      "outputs": [
        {
          "output_type": "stream",
          "name": "stdout",
          "text": [
            "--2024-03-22 17:23:44--  https://de.ifmo.ru/nextcloud/s/KtcwoaaJTSQC9WD/download?path=%2F%D0%97%D0%B0%D0%B4%D0%B0%D0%BD%D0%B8%D0%B5%202&files=train.zip&downloadStartSecret=tiomwzjicfj\n",
            "Resolving de.ifmo.ru (de.ifmo.ru)... 77.234.213.242\n",
            "Connecting to de.ifmo.ru (de.ifmo.ru)|77.234.213.242|:443... connected.\n",
            "HTTP request sent, awaiting response... 200 OK\n",
            "Length: 580601634 (554M) [application/zip]\n",
            "Saving to: ‘train.zip’\n",
            "\n",
            "train.zip           100%[===================>] 553.70M  22.8MB/s    in 27s     \n",
            "\n",
            "2024-03-22 17:24:14 (20.2 MB/s) - ‘train.zip’ saved [580601634/580601634]\n",
            "\n"
          ]
        }
      ]
    },
    {
      "cell_type": "code",
      "source": [
        "!wget \"https://de.ifmo.ru/nextcloud/s/KtcwoaaJTSQC9WD/download?path=%2F%D0%97%D0%B0%D0%B4%D0%B0%D0%BD%D0%B8%D0%B5%202&files=model_10k.json&downloadStartSecret=tiomwzjicfj\" -O model_10k.json"
      ],
      "metadata": {
        "id": "1Uu_QiH-W1WQ",
        "colab": {
          "base_uri": "https://localhost:8080/"
        },
        "outputId": "ab05c0b2-bcbb-4147-f21a-585d8d36c45a"
      },
      "execution_count": 10,
      "outputs": [
        {
          "output_type": "stream",
          "name": "stdout",
          "text": [
            "--2024-03-22 17:24:14--  https://de.ifmo.ru/nextcloud/s/KtcwoaaJTSQC9WD/download?path=%2F%D0%97%D0%B0%D0%B4%D0%B0%D0%BD%D0%B8%D0%B5%202&files=model_10k.json&downloadStartSecret=tiomwzjicfj\n",
            "Resolving de.ifmo.ru (de.ifmo.ru)... 77.234.213.242\n",
            "Connecting to de.ifmo.ru (de.ifmo.ru)|77.234.213.242|:443... connected.\n",
            "HTTP request sent, awaiting response... 200 OK\n",
            "Length: 4376 (4.3K) [text/plain]\n",
            "Saving to: ‘model_10k.json’\n",
            "\n",
            "model_10k.json      100%[===================>]   4.27K  --.-KB/s    in 0s      \n",
            "\n",
            "2024-03-22 17:24:16 (1.36 GB/s) - ‘model_10k.json’ saved [4376/4376]\n",
            "\n"
          ]
        }
      ]
    },
    {
      "cell_type": "code",
      "source": [
        "!wget \"https://de.ifmo.ru/nextcloud/s/KtcwoaaJTSQC9WD/download?path=%2F%D0%97%D0%B0%D0%B4%D0%B0%D0%BD%D0%B8%D0%B5%202&files=Model_10k_images.h5\" -O Model_10k_images.h5"
      ],
      "metadata": {
        "id": "nT0Pp0XpW8l9",
        "colab": {
          "base_uri": "https://localhost:8080/"
        },
        "outputId": "a05b57c2-5847-4603-d612-be6e8ea0872f"
      },
      "execution_count": 11,
      "outputs": [
        {
          "output_type": "stream",
          "name": "stdout",
          "text": [
            "--2024-03-22 17:24:16--  https://de.ifmo.ru/nextcloud/s/KtcwoaaJTSQC9WD/download?path=%2F%D0%97%D0%B0%D0%B4%D0%B0%D0%BD%D0%B8%D0%B5%202&files=Model_10k_images.h5\n",
            "Resolving de.ifmo.ru (de.ifmo.ru)... 77.234.213.242\n",
            "Connecting to de.ifmo.ru (de.ifmo.ru)|77.234.213.242|:443... connected.\n",
            "HTTP request sent, awaiting response... 200 OK\n",
            "Length: 4879880 (4.7M) [application/octet-stream]\n",
            "Saving to: ‘Model_10k_images.h5’\n",
            "\n",
            "Model_10k_images.h5 100%[===================>]   4.65M  4.56MB/s    in 1.0s    \n",
            "\n",
            "2024-03-22 17:24:18 (4.56 MB/s) - ‘Model_10k_images.h5’ saved [4879880/4879880]\n",
            "\n"
          ]
        }
      ]
    },
    {
      "cell_type": "code",
      "execution_count": 64,
      "metadata": {
        "id": "iCS3onPb5cBY"
      },
      "outputs": [],
      "source": [
        "from keras.preprocessing.image import array_to_img, img_to_array, load_img\n",
        "from keras.utils import plot_model\n",
        "import numpy as np\n",
        "from matplotlib import pyplot as plt\n",
        "from PIL import Image, ImageDraw\n",
        "import os, random, shutil\n",
        "from PIL import ImageFile\n",
        "import zipfile\n",
        "ImageFile.LOAD_TRUNCATED_IMAGES = True\n",
        "\n",
        "\n",
        "if not os.path.exists('/content/sample_data/test/train/cats/'):\n",
        "  os.makedirs('/content/sample_data/test/train/cats/')\n",
        "if not os.path.exists('/content/sample_data/test/train/dogs/'):\n",
        "  os.makedirs('/content/sample_data/test/train/dogs/')"
      ]
    },
    {
      "cell_type": "code",
      "execution_count": 46,
      "metadata": {
        "id": "vgjLQ40v7ZGh"
      },
      "outputs": [],
      "source": [
        "zip_file = \"/content/train.zip\"\n",
        "startswith_cats = \"cat\" # начало имени файла для кошек\n",
        "startswith_dogs = \"dog\" # начало имени файла для собак\n",
        "with zipfile.ZipFile(zip_file, 'r') as z:\n",
        "  for file in z.namelist():\n",
        "    file_new = file.rsplit( \"/\", 1 )[ 1 ]\n",
        "    if not (file_new.startswith(startswith_cats) or file_new.startswith(startswith_dogs)): continue\n",
        "    i = int(file_new.split('.')[1])\n",
        "    if file_new.startswith(startswith_cats) and i >= 10600 and i < 10700:\n",
        "      z.extract(file, 'sample_data/test/')\n",
        "      os.replace('sample_data/test/train/'+file_new,'sample_data/test/train/cats/'+file_new)\n",
        "    elif file_new.startswith(startswith_dogs) and i >= 10600 and i < 10700:\n",
        "      z.extract(file,'sample_data/test/')\n",
        "      os.replace('sample_data/test/train/'+file_new,'sample_data/test/train/dogs/'+file_new)\n"
      ]
    },
    {
      "cell_type": "code",
      "source": [
        "import tensorflow as ts\n",
        "from tensorflow.keras.layers import Conv2D, MaxPooling2D\n",
        "from tensorflow.keras.layers import Activation, Dropout, Flatten, Dense\n",
        "from tensorflow.keras import backend as K\n",
        "\n",
        "img_width, img_height = 150, 150 # ширина, высота изображений\n",
        "\n",
        "train_data_dir = 'sample_data/test/train' # директория с изображениями кошек и собак для последующего обучения модели\n",
        "validation_data_dir = 'sample_data/test/validation' # директория с изображениями для тестирования модели\n",
        "nb_train_samples = 2000 # количество тренировочных изображений\n",
        "nb_validation_samples = 800 # количество изображений для тестирования\n",
        "epochs = 30 # количество эпох (итераций)\n",
        "batch_size = 16 # данные разбиваются на \"пакеты\" размером \"batch_size\"\n",
        "\n",
        "if K.image_data_format() == 'channels_first': # для сохранения упорядочевания весов при переключении модели с одного формата данных на другой\n",
        "    input_shape = (3, img_width, img_height)\n",
        "else:\n",
        "    input_shape = (img_width, img_height, 3)\n",
        "\n",
        "model = ts.keras.Sequential()\n",
        "model.add(Conv2D(32, (3, 3), input_shape=input_shape)) # добавляем сверточный 2D-слой. Поскольку это 1-ый слой, необходимо задать ключевой аргумент input_shape\n",
        "# 32 - количество выходных фильтров в свертке, т.е. сколько признаков будем искать\n",
        "# (3, 3) - kernel_size-высота и ширина окна 2D свертки\n",
        "# Имеется 32 фильтра, каждый 3x3x3 (т. е. 27 весов), плюс 1 для смещения (т. е. всего 28 весов каждый). 32 фильтра * 28 весов = 896 параметров.\n",
        "model.add(Activation('relu')) # указываем функцию активации. В данном случае f(z)=max(0,z)\n",
        "model.add(MaxPooling2D(pool_size=(2, 2))) # уменьшим размер исходной матрицы (этот слой обязателен после сверточных слоев)\n",
        "\n",
        "model.add(Conv2D(32, (3, 3))) # добавляем второй сверточный слой\n",
        "model.add(Activation('relu'))\n",
        "model.add(MaxPooling2D(pool_size=(2, 2)))\n",
        "\n",
        "model.add(Conv2D(64, (3, 3))) # добавляем третий сверточный слой (размер фильтра увеличивается, так что сеть уже может изучать более сложные представления)\n",
        "model.add(Activation('relu'))\n",
        "model.add(MaxPooling2D(pool_size=(2, 2)))\n",
        "\n",
        "model.add(Flatten()) # слой, преобразующий 2D-данные в 1D-данные\n",
        "model.add(Dense(64)) # добавляем полносвязный слой с указанием числа выходов\n",
        "model.add(Activation('relu'))\n",
        "model.add(Dropout(0.5)) # добавляем слой, обнуляющий в модели часть весов, чтоб избежать переобучения (0,5 означает, что он отбрасывает 50% существующих соединений)\n",
        "model.add(Dense(1))\n",
        "model.add(Activation('sigmoid'))\n",
        "\n",
        "model.compile(loss='binary_crossentropy',\n",
        "              optimizer='rmsprop',\n",
        "              metrics=['accuracy'])\n"
      ],
      "metadata": {
        "id": "0igbFlBAY0pG",
        "colab": {
          "base_uri": "https://localhost:8080/"
        },
        "outputId": "eda6ea3b-6f6c-40a6-fc25-6cbe5ff23a3c"
      },
      "execution_count": 15,
      "outputs": [
        {
          "output_type": "stream",
          "name": "stderr",
          "text": [
            "/usr/local/lib/python3.10/dist-packages/keras/src/layers/convolutional/base_conv.py:99: UserWarning: Do not pass an `input_shape`/`input_dim` argument to a layer. When using Sequential models, prefer using an `Input(shape)` object as the first layer in the model instead.\n",
            "  super().__init__(\n"
          ]
        }
      ]
    },
    {
      "cell_type": "code",
      "source": [
        "model.load_weights(\"Model_10k_images.h5\")"
      ],
      "metadata": {
        "id": "UvwooG1wLkEJ"
      },
      "execution_count": 17,
      "outputs": []
    },
    {
      "cell_type": "code",
      "source": [
        "!mkdir test\n",
        "!mkdir test/cat\n",
        "!mkdir test/dog\n",
        "!cp sample_data/test/train/cats/cat.10638.jpg test/cat/cat.jpg\n",
        "!cp sample_data/test/train/dogs/dog.10638.jpg test/dog/dog.jpg"
      ],
      "metadata": {
        "id": "qDmcInQxPkiK"
      },
      "execution_count": 33,
      "outputs": []
    },
    {
      "cell_type": "code",
      "source": [
        "from tensorflow.keras.preprocessing.image import ImageDataGenerator\n",
        "\n",
        "img_width, img_height = 150, 150\n",
        "test_datagen = ImageDataGenerator(rescale=1./255)\n",
        "test_generator = test_datagen.flow_from_directory(\n",
        "    \"test\",\n",
        "    target_size=(img_width, img_height),\n",
        "    batch_size=2,\n",
        "    class_mode='binary',\n",
        "    shuffle=False)\n",
        "\n",
        "imgs, labels = next(test_generator)\n",
        "array_imgs=np.transpose(np.asarray([img_to_array(img) for img in imgs]),(0,2,1,3))\n",
        "predictions=np.round(model.predict(imgs)).flatten()\n",
        "\n",
        "print(predictions)\n",
        "print(labels)\n",
        "# если label=0 - это кот и ответ = 1 - pred"
      ],
      "metadata": {
        "id": "BfYuVZ1hYDlA"
      },
      "execution_count": null,
      "outputs": []
    },
    {
      "cell_type": "code",
      "source": [
        "from tensorflow.keras.preprocessing.image import ImageDataGenerator\n",
        "\n",
        "img_width, img_height = 150, 150\n",
        "test_datagen = ImageDataGenerator(rescale=1./255)\n",
        "test_generator = test_datagen.flow_from_directory(\n",
        "    \"/content/sample_data/test/train\",\n",
        "    target_size=(img_width, img_height),\n",
        "    batch_size=200,\n",
        "    class_mode='binary',\n",
        "    shuffle=False)\n"
      ],
      "metadata": {
        "colab": {
          "base_uri": "https://localhost:8080/"
        },
        "id": "vcG1NLEtM8_m",
        "outputId": "941974be-2119-464d-a897-258bc39a2119"
      },
      "execution_count": 63,
      "outputs": [
        {
          "output_type": "stream",
          "name": "stdout",
          "text": [
            "Found 200 images belonging to 2 classes.\n"
          ]
        }
      ]
    },
    {
      "cell_type": "code",
      "source": [
        "imgs, labels = next(test_generator)\n",
        "array_imgs=np.transpose(np.asarray([img_to_array(img) for img in imgs]),(0,2,1,3))\n",
        "predictions=np.round(model.predict(imgs)).flatten()"
      ],
      "metadata": {
        "colab": {
          "base_uri": "https://localhost:8080/"
        },
        "id": "nqN79TNlOD9u",
        "outputId": "f119f098-8dca-4f0a-d393-fc137f761055"
      },
      "execution_count": 60,
      "outputs": [
        {
          "output_type": "stream",
          "name": "stdout",
          "text": [
            "\u001b[1m7/7\u001b[0m \u001b[32m━━━━━━━━━━━━━━━━━━━━\u001b[0m\u001b[37m\u001b[0m \u001b[1m3s\u001b[0m 353ms/step\n",
            "[0. 0. 0. 0. 0. 0. 0. 0. 0. 0. 0. 0. 0. 0. 1. 0. 0. 0. 0. 0. 1. 0. 0. 0.\n",
            " 1. 0. 0. 0. 1. 0. 0. 0. 1. 1. 0. 0. 1. 0. 0. 0. 0. 0. 0. 0. 0. 0. 0. 0.\n",
            " 0. 0. 0. 1. 0. 0. 0. 0. 0. 0. 0. 0. 0. 0. 0. 0. 0. 0. 0. 0. 0. 0. 0. 0.\n",
            " 1. 0. 1. 0. 0. 0. 1. 0. 0. 0. 0. 0. 0. 0. 0. 0. 0. 0. 0. 0. 1. 0. 0. 0.\n",
            " 0. 0. 0. 0. 1. 1. 1. 1. 1. 0. 1. 1. 1. 1. 0. 1. 1. 1. 1. 1. 0. 1. 1. 0.\n",
            " 1. 1. 0. 0. 1. 0. 1. 1. 0. 0. 0. 1. 1. 1. 1. 1. 0. 0. 1. 1. 1. 1. 0. 0.\n",
            " 1. 1. 1. 1. 1. 1. 1. 1. 1. 1. 1. 0. 1. 1. 1. 0. 1. 0. 1. 1. 0. 1. 1. 1.\n",
            " 1. 1. 0. 0. 0. 0. 1. 1. 1. 0. 1. 1. 0. 0. 1. 1. 1. 1. 1. 1. 0. 0. 0. 1.\n",
            " 1. 1. 1. 1. 1. 1. 0. 1.] [0. 0. 0. 0. 0. 0. 0. 0. 0. 0. 0. 0. 0. 0. 0. 0. 0. 0. 0. 0. 0. 0. 0. 0.\n",
            " 0. 0. 0. 0. 0. 0. 0. 0. 0. 0. 0. 0. 0. 0. 0. 0. 0. 0. 0. 0. 0. 0. 0. 0.\n",
            " 0. 0. 0. 0. 0. 0. 0. 0. 0. 0. 0. 0. 0. 0. 0. 0. 0. 0. 0. 0. 0. 0. 0. 0.\n",
            " 0. 0. 0. 0. 0. 0. 0. 0. 0. 0. 0. 0. 0. 0. 0. 0. 0. 0. 0. 0. 0. 0. 0. 0.\n",
            " 0. 0. 0. 0. 1. 1. 1. 1. 1. 1. 1. 1. 1. 1. 1. 1. 1. 1. 1. 1. 1. 1. 1. 1.\n",
            " 1. 1. 1. 1. 1. 1. 1. 1. 1. 1. 1. 1. 1. 1. 1. 1. 1. 1. 1. 1. 1. 1. 1. 1.\n",
            " 1. 1. 1. 1. 1. 1. 1. 1. 1. 1. 1. 1. 1. 1. 1. 1. 1. 1. 1. 1. 1. 1. 1. 1.\n",
            " 1. 1. 1. 1. 1. 1. 1. 1. 1. 1. 1. 1. 1. 1. 1. 1. 1. 1. 1. 1. 1. 1. 1. 1.\n",
            " 1. 1. 1. 1. 1. 1. 1. 1.]\n"
          ]
        }
      ]
    },
    {
      "cell_type": "code",
      "source": [
        "from sklearn.metrics import f1_score, precision_score, recall_score\n",
        "\n",
        "print(\"f1\")\n",
        "print(f1_score(labels, predictions, average='macro'))\n",
        "\n",
        "print(\"precision\")\n",
        "print(precision_score(labels, predictions, average='macro'))\n",
        "\n",
        "print(\"recall\")\n",
        "print(recall_score(labels, predictions, average='macro'))"
      ],
      "metadata": {
        "colab": {
          "base_uri": "https://localhost:8080/"
        },
        "id": "ZNJP_U4JVP6E",
        "outputId": "8b321361-0ba3-4d47-8912-49a3871b5491"
      },
      "execution_count": 62,
      "outputs": [
        {
          "output_type": "stream",
          "name": "stdout",
          "text": [
            "f1\n",
            "0.7935080959935534\n",
            "precision\n",
            "0.80377921944187\n",
            "recall\n",
            "0.7949999999999999\n"
          ]
        }
      ]
    }
  ],
  "metadata": {
    "colab": {
      "provenance": []
    },
    "kernelspec": {
      "display_name": "Python 3",
      "name": "python3"
    },
    "language_info": {
      "name": "python",
      "version": "3.11.7"
    }
  },
  "nbformat": 4,
  "nbformat_minor": 0
}